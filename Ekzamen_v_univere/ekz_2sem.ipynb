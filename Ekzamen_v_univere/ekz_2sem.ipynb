{
 "cells": [
  {
   "cell_type": "markdown",
   "metadata": {},
   "source": [
    "# №1"
   ]
  },
  {
   "cell_type": "code",
   "execution_count": 4,
   "metadata": {},
   "outputs": [
    {
     "name": "stdout",
     "output_type": "stream",
     "text": [
      "1. Вычислить площадь круга. \n",
      "2. Вычислить длину окружности. \n",
      "3. Вычислить объем шара.\n",
      "введите 1, 2 или 3, затем enter и введите радиус\n",
      "2\n",
      "4\n",
      "длинна окружности равна : 25.13\n"
     ]
    }
   ],
   "source": [
    "from math import pi\n",
    "class plosh(object):\n",
    "    \n",
    "    def __init__(self, r):\n",
    "        self.r = r\n",
    "        \n",
    "    def __str__(self):\n",
    "        return f\"площадь окружности равна : {round(self.r**2 * pi, 2)}\"\n",
    "    \n",
    "class len_okr(plosh):\n",
    "    \n",
    "    def __init__(self, r):\n",
    "        super().__init__(r)\n",
    "        \n",
    "    def __str__(self):\n",
    "        return f\"длинна окружности равна : {round(2 * self.r * pi, 2)}\"\n",
    "\n",
    "class obiem(plosh):\n",
    "    \n",
    "    def __init__(self, r):\n",
    "        super().__init__(r)\n",
    "        \n",
    "    def __str__(self):\n",
    "        return f\"объем шара равен : {round((self.r**3 * pi * 4) / 3, 2)}\"\n",
    "    \n",
    "def start():\n",
    "    print('''1. Вычислить площадь круга. \n",
    "2. Вычислить длину окружности. \n",
    "3. Вычислить объем шара.''')\n",
    "    print('введите 1, 2 или 3, затем enter и введите радиус')\n",
    "    d = int(input())\n",
    "    r = int(input())\n",
    "    if d == 1:\n",
    "        return plosh(r)\n",
    "    elif d == 2:\n",
    "        return len_okr(r)\n",
    "    else:\n",
    "        return obiem(r)\n",
    "    \n",
    "print(start())\n"
   ]
  },
  {
   "cell_type": "markdown",
   "metadata": {},
   "source": [
    "# №2"
   ]
  },
  {
   "cell_type": "code",
   "execution_count": null,
   "metadata": {},
   "outputs": [],
   "source": []
  },
  {
   "cell_type": "markdown",
   "metadata": {},
   "source": [
    "# №3"
   ]
  },
  {
   "cell_type": "code",
   "execution_count": 9,
   "metadata": {},
   "outputs": [
    {
     "name": "stdout",
     "output_type": "stream",
     "text": [
      "[-54, -3, -77, 55, 5, 57, -64, -63, 48, 31, 50, 100, -45, 41, 66, 18, -58, -21, -28, -43]\n",
      "[55, 5, 57, 48, 31, 50, 100, 41, 66, 18]\n",
      "[-54, -3, -77, -64, -63, -45, -58, -21, -28, -43]\n"
     ]
    }
   ],
   "source": [
    "from random import randint\n",
    "def polotr(x):\n",
    "    if x >= 0 :\n",
    "        return(b.append(x))\n",
    "    else :\n",
    "        return (c.append(x))\n",
    "a = []\n",
    "b = []\n",
    "c = []\n",
    "for i in range (20):\n",
    "    a.append(randint(-100, 100))\n",
    "print(a)\n",
    "list(map(polotr, a))\n",
    "print(b)\n",
    "print(c)"
   ]
  },
  {
   "cell_type": "markdown",
   "metadata": {},
   "source": [
    "# №4"
   ]
  },
  {
   "cell_type": "code",
   "execution_count": null,
   "metadata": {},
   "outputs": [],
   "source": []
  },
  {
   "cell_type": "markdown",
   "metadata": {},
   "source": [
    "# №5"
   ]
  },
  {
   "cell_type": "code",
   "execution_count": 27,
   "metadata": {},
   "outputs": [
    {
     "name": "stdout",
     "output_type": "stream",
     "text": [
      "загруженность самолета A : 60.0 %\n",
      "загруженность самолета B : 43.5 %\n",
      "загруженность самолета C : 99.0 %\n",
      "загруженность самолета D : 28.5 %\n",
      "загруженность самолета E : 84.5 %\n",
      "загруженность самолета F : 99.5 %\n",
      "загруженность самолета G : 48.5 %\n",
      "самолет A, пассажиры 120, пункт отправления Moscow, пункт назначения Berlin\n",
      "самолет D, пассажиры 57, пункт отправления Moscow, пункт назначения Berlin\n"
     ]
    }
   ],
   "source": [
    "class Plane(object):\n",
    "    def __init__(self, name, pas, marshot, marshpr):\n",
    "        self.n = name\n",
    "        self.p = pas\n",
    "        self.mot = marshot\n",
    "        self.mpr = marshpr\n",
    "    \n",
    "    def __str__(self):\n",
    "        return f\"самолет {self.n}, пассажиры {self.p}, пункт отправления {self.mot}, пункт назначения {self.mpr}\"\n",
    "    \n",
    "    def zagr(self):\n",
    "        return f'загруженность самолета {self.n} : {self.p / 2} %'\n",
    "    \n",
    "    def alh(self):\n",
    "        return f'{self.mot} {self.mpr}'\n",
    "        \n",
    "    def allname(self, planes, i, an):\n",
    "        for j in range(i + 1, len(planes)):\n",
    "            if planes[i].alh() == planes[j].alh():\n",
    "                an.append(planes[i])\n",
    "                an.append(planes[j])\n",
    "        return an\n",
    "        \n",
    "    def srzagr(self):\n",
    "        return f'{self.p / 2}'\n",
    "    \n",
    "        \n",
    "        \n",
    "A  = Plane(\"A\", 120, 'Moscow', 'Berlin')\n",
    "B  = Plane(\"B\", 87, 'Tehas', 'LasVegas')\n",
    "C  = Plane(\"C\", 198, 'Moscow', 'Paris')\n",
    "D  = Plane(\"D\", 57, 'Moscow', 'Berlin')\n",
    "E  = Plane(\"E\", 169, 'Kiev', 'Berlin')\n",
    "F  = Plane(\"F\", 199, 'Moscow', 'Tula')\n",
    "G  = Plane(\"G\", 97, 'Grozniy', 'Berlin')\n",
    "planes = [A, B, C, D, E, F, G]\n",
    "\n",
    "# for i in planes:\n",
    "#     print (i.zagr())\n",
    "\n",
    "# an = []\n",
    "# for i in range (len(planes) - 1):\n",
    "#     planes[i].allname(planes, i, an)\n",
    "# for i in an:\n",
    "#     print(i)\n",
    "\n",
    "sr = 0\n",
    "for "
   ]
  },
  {
   "cell_type": "markdown",
   "metadata": {},
   "source": [
    "# №6"
   ]
  },
  {
   "cell_type": "code",
   "execution_count": null,
   "metadata": {},
   "outputs": [],
   "source": []
  },
  {
   "cell_type": "markdown",
   "metadata": {},
   "source": [
    "# №7"
   ]
  },
  {
   "cell_type": "code",
   "execution_count": null,
   "metadata": {},
   "outputs": [],
   "source": []
  },
  {
   "cell_type": "markdown",
   "metadata": {},
   "source": [
    "# №8"
   ]
  },
  {
   "cell_type": "code",
   "execution_count": null,
   "metadata": {},
   "outputs": [],
   "source": []
  },
  {
   "cell_type": "markdown",
   "metadata": {},
   "source": [
    "# №9"
   ]
  },
  {
   "cell_type": "code",
   "execution_count": null,
   "metadata": {},
   "outputs": [],
   "source": []
  },
  {
   "cell_type": "markdown",
   "metadata": {},
   "source": [
    "# №10"
   ]
  },
  {
   "cell_type": "code",
   "execution_count": null,
   "metadata": {},
   "outputs": [],
   "source": []
  },
  {
   "cell_type": "markdown",
   "metadata": {},
   "source": [
    "# №11"
   ]
  },
  {
   "cell_type": "code",
   "execution_count": null,
   "metadata": {},
   "outputs": [],
   "source": []
  },
  {
   "cell_type": "markdown",
   "metadata": {},
   "source": [
    "# №12"
   ]
  },
  {
   "cell_type": "code",
   "execution_count": null,
   "metadata": {},
   "outputs": [],
   "source": []
  },
  {
   "cell_type": "markdown",
   "metadata": {},
   "source": [
    "# №13"
   ]
  },
  {
   "cell_type": "code",
   "execution_count": null,
   "metadata": {},
   "outputs": [],
   "source": []
  },
  {
   "cell_type": "markdown",
   "metadata": {},
   "source": [
    "# №14"
   ]
  }
 ],
 "metadata": {
  "kernelspec": {
   "display_name": "Python 3",
   "language": "python",
   "name": "python3"
  },
  "language_info": {
   "codemirror_mode": {
    "name": "ipython",
    "version": 3
   },
   "file_extension": ".py",
   "mimetype": "text/x-python",
   "name": "python",
   "nbconvert_exporter": "python",
   "pygments_lexer": "ipython3",
   "version": "3.7.4"
  }
 },
 "nbformat": 4,
 "nbformat_minor": 2
}
